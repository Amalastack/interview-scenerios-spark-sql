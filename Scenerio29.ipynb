{
 "cells": [
  {
   "cell_type": "code",
   "execution_count": 1,
   "id": "4e567a04-c8cc-4538-8bc4-0834ffe12a6a",
   "metadata": {
    "tags": []
   },
   "outputs": [],
   "source": [
    "from pyspark import SparkConf\n",
    "from pyspark import SparkContext\n",
    "from pyspark import *\n",
    "from pyspark.sql import SparkSession\n",
    "from pyspark.sql import *\n",
    "from pyspark.sql.types import *\n",
    "from pyspark.sql.functions import *\n",
    "from pyspark.sql.window import *\n",
    "\n",
    "conf = SparkConf().setMaster(\"local[*]\").setAppName(\"test\")\n",
    "sc = SparkContext(conf=conf)\n",
    "sc.setLogLevel(\"ERROR\")\n",
    "\n",
    "spark = SparkSession.builder.getOrCreate()"
   ]
  },
  {
   "cell_type": "code",
   "execution_count": 2,
   "id": "f2195695-b2c6-4256-ba82-b30f026a63db",
   "metadata": {
    "tags": []
   },
   "outputs": [
    {
     "name": "stdout",
     "output_type": "stream",
     "text": [
      "+---+\n",
      "|col|\n",
      "+---+\n",
      "|  1|\n",
      "|  2|\n",
      "|  3|\n",
      "+---+\n",
      "\n",
      "+----+\n",
      "|col1|\n",
      "+----+\n",
      "|   1|\n",
      "|   2|\n",
      "|   3|\n",
      "|   4|\n",
      "|   5|\n",
      "+----+\n",
      "\n"
     ]
    }
   ],
   "source": [
    "data1 = [(1,), (2,), (3,)]\n",
    "\n",
    "df1 = spark.createDataFrame(data1, [\"col\"])\n",
    "df1.show()\n",
    "\n",
    "data2 = [(1,), (2,), (3,), (4,), (5,)]\n",
    "\n",
    "df2 = spark.createDataFrame(data2, [\"col1\"])\n",
    "df2.show()"
   ]
  },
  {
   "cell_type": "code",
   "execution_count": 3,
   "id": "b30bd168-f96c-4fd8-9272-7d97b59cd89f",
   "metadata": {
    "tags": []
   },
   "outputs": [
    {
     "name": "stdout",
     "output_type": "stream",
     "text": [
      "+---+\n",
      "|max|\n",
      "+---+\n",
      "|  3|\n",
      "+---+\n",
      "\n"
     ]
    }
   ],
   "source": [
    "maxdf = df1.agg(max(\"col\").alias(\"max\"))\n",
    "maxdf.show()\n",
    "\n",
    "maxsalary = maxdf.select(col(\"max\")).first()[0]"
   ]
  },
  {
   "cell_type": "code",
   "execution_count": 4,
   "id": "44725b81-b235-4fc7-8c77-a324a59c8b0f",
   "metadata": {
    "tags": []
   },
   "outputs": [
    {
     "name": "stdout",
     "output_type": "stream",
     "text": [
      "+----+\n",
      "|col1|\n",
      "+----+\n",
      "|   5|\n",
      "|   1|\n",
      "|   3|\n",
      "|   2|\n",
      "|   4|\n",
      "+----+\n",
      "\n"
     ]
    }
   ],
   "source": [
    "joindf = df1.join(df2, df1[\"col\"] == df2[\"col1\"], \"outer\").drop(\"col\")\n",
    "joindf.show()"
   ]
  },
  {
   "cell_type": "code",
   "execution_count": 5,
   "id": "66f2e9c9-d196-4974-98bf-f9ef80cb05b3",
   "metadata": {
    "tags": []
   },
   "outputs": [
    {
     "name": "stdout",
     "output_type": "stream",
     "text": [
      "+---+\n",
      "|col|\n",
      "+---+\n",
      "|  1|\n",
      "|  2|\n",
      "|  4|\n",
      "|  5|\n",
      "+---+\n",
      "\n"
     ]
    }
   ],
   "source": [
    "finaldf = joindf.filter(col(\"col1\") != maxsalary).withColumnRenamed(\"col1\", \"col\").orderBy(\"col\")\n",
    "finaldf.show()"
   ]
  },
  {
   "cell_type": "code",
   "execution_count": null,
   "id": "013af101-19ac-4faf-81a8-e22039b9f0f5",
   "metadata": {},
   "outputs": [],
   "source": []
  }
 ],
 "metadata": {
  "kernelspec": {
   "display_name": "Python 3 (ipykernel)",
   "language": "python",
   "name": "python3"
  },
  "language_info": {
   "codemirror_mode": {
    "name": "ipython",
    "version": 3
   },
   "file_extension": ".py",
   "mimetype": "text/x-python",
   "name": "python",
   "nbconvert_exporter": "python",
   "pygments_lexer": "ipython3",
   "version": "3.7.0"
  }
 },
 "nbformat": 4,
 "nbformat_minor": 5
}
